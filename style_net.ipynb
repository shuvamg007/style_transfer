{
  "nbformat": 4,
  "nbformat_minor": 0,
  "metadata": {
    "colab": {
      "name": "StyleNet.ipynb",
      "version": "0.3.2",
      "provenance": [],
      "collapsed_sections": []
    },
    "kernelspec": {
      "name": "python3",
      "display_name": "Python 3"
    },
    "accelerator": "GPU"
  },
  "cells": [
    {
      "metadata": {
        "id": "ADF-USWamt63",
        "colab_type": "code",
        "colab": {}
      },
      "cell_type": "code",
      "source": [
        "import tensorflow as tf\n",
        "import numpy as np\n",
        "import PIL\n",
        "import skimage.io\n",
        "import vgg19"
      ],
      "execution_count": 0,
      "outputs": []
    },
    {
      "metadata": {
        "id": "w2OSJTQfngAh",
        "colab_type": "code",
        "colab": {}
      },
      "cell_type": "code",
      "source": [
        "def display_image(image):\n",
        "    image = np.squeeze(image)\n",
        "    image = image[:,:,(2,1,0)]\n",
        "    image = image + vgg19.VGG_MEAN\n",
        "    image = np.clip(image, 0, 255).astype(np.uint8)\n",
        "    display(PIL.Image.fromarray(image))"
      ],
      "execution_count": 0,
      "outputs": []
    },
    {
      "metadata": {
        "id": "ItvUrXpB6U8T",
        "colab_type": "code",
        "colab": {}
      },
      "cell_type": "code",
      "source": [
        "def load_image(file_style, file_content):\n",
        "    image_style = (skimage.io.imread(file_style) - vgg19.VGG_MEAN)[:,:,(2,1,0)]\n",
        "    image_content = (skimage.io.imread(file_content) - vgg19.VGG_MEAN)[:,:,(2,1,0)]\n",
        "    return image_style[np.newaxis, :, :, :], image_content[np.newaxis, :, :, :]"
      ],
      "execution_count": 0,
      "outputs": []
    },
    {
      "metadata": {
        "id": "a9tsUjDTr-_A",
        "colab_type": "code",
        "colab": {}
      },
      "cell_type": "code",
      "source": [
        "def gram_matrix(tensor):\n",
        "    shape = tensor.get_shape()\n",
        "    channels = shape[3].value\n",
        "    size = np.prod(shape).value\n",
        "    matrix = tf.reshape(tensor, shape=[-1, channels])\n",
        "    return tf.matmul(tf.transpose(matrix), matrix) / size"
      ],
      "execution_count": 0,
      "outputs": []
    },
    {
      "metadata": {
        "id": "yFM_2qW_4b8b",
        "colab_type": "code",
        "colab": {}
      },
      "cell_type": "code",
      "source": [
        "def get_loss(var, image_model, selection):\n",
        "    if selection == 0:\n",
        "        losses = [tf.nn.l2_loss(var1 - var2) for (var1, var2) in zip(var, get_content(image_model))]\n",
        "    elif selection == 1:\n",
        "        losses = [tf.nn.l2_loss(var1 - var2) for (var1, var2) in zip(var, get_style(image_model))]\n",
        "    losses = [losses[i] / (var[i].size) for i in range(len(losses))]\n",
        "    overall_loss = tf.reduce_sum(losses)\n",
        "    return overall_loss"
      ],
      "execution_count": 0,
      "outputs": []
    },
    {
      "metadata": {
        "id": "CX8c1_Pw_Drz",
        "colab_type": "code",
        "colab": {}
      },
      "cell_type": "code",
      "source": [
        "def get_style(model):\n",
        "    tensor = [gram_matrix(getattr(model, layer)) for layer in style_layers]\n",
        "    return tensor"
      ],
      "execution_count": 0,
      "outputs": []
    },
    {
      "metadata": {
        "id": "xUzIlvPI_kgR",
        "colab_type": "code",
        "colab": {}
      },
      "cell_type": "code",
      "source": [
        "def get_content(vgg):\n",
        "    tensor = [getattr(vgg, layer) for layer in content_layers]\n",
        "    return tensor"
      ],
      "execution_count": 0,
      "outputs": []
    },
    {
      "metadata": {
        "id": "Sg9kg166Wfuq",
        "colab_type": "code",
        "colab": {}
      },
      "cell_type": "code",
      "source": [
        "def style_transfer(style_file, content_file, n_iter, style_wt, content_wt, vgg_file):\n",
        "  \n",
        "    style_img, content_img = load_image(style_file, content_file)\n",
        "    with tf.Session() as sess:\n",
        "      \n",
        "        content_model = vgg19.Vgg19(vgg_file)\n",
        "        content_vars = tf.placeholder(\"float\", content_img.shape)\n",
        "        content_model.build(content_vars)\n",
        "        \n",
        "        style_model = vgg19.Vgg19(vgg_file)\n",
        "        style_vars = tf.placeholder(\"float\", style_img.shape)\n",
        "        style_model.build(style_vars)\n",
        "\n",
        "        sess.run(tf.global_variables_initializer())\n",
        "        style = sess.run(get_style(style_model), feed_dict={style_vars: style_img})\n",
        "        content = sess.run(get_content(content_model), feed_dict={content_vars: content_img})\n",
        "        \n",
        "    # start with white noise\n",
        "    noise = tf.truncated_normal(content_img.shape, stddev=0.1*np.std(content_img))\n",
        "    mixed_img = tf.Variable(noise)\n",
        "    mixed_model = vgg19.Vgg19(vgg_file)\n",
        "    mixed_model.build(mixed_img)\n",
        "\n",
        "    # define losses and optimizer\n",
        "    content_loss = get_loss(content, mixed_model, 0)\n",
        "    style_loss = get_loss(style, mixed_model, 1)\n",
        "    total_loss = (content_wt * content_loss) + (style_wt * style_loss)\n",
        "    \n",
        "    optimizer = tf.train.AdamOptimizer(1.0)\n",
        "    optimizer = optimizer.minimize(total_loss)\n",
        "\n",
        "    # perform style transfer\n",
        "    with tf.Session() as sess:\n",
        "        print()\n",
        "        sess.run(tf.global_variables_initializer())\n",
        "        for i in range(n_iter):\n",
        "            sess.run(optimizer)\n",
        "            if (i+1) % 100 == 0:\n",
        "                print('result for iteration ', (i+1))\n",
        "                print('content_loss: ', (content_wt * content_loss.eval())) \n",
        "                print('style_loss: ', (style_wt * style_loss.eval()))\n",
        "                display_image(mixed_img.eval())\n",
        "        print('Done')"
      ],
      "execution_count": 0,
      "outputs": []
    },
    {
      "metadata": {
        "id": "dpIpZLGXuTBj",
        "colab_type": "code",
        "colab": {}
      },
      "cell_type": "code",
      "source": [
        "content_layers = ['conv4_2']\n",
        "style_layers = ['conv1_1', 'conv2_1', 'conv3_1', 'conv4_1', 'conv5_1']"
      ],
      "execution_count": 0,
      "outputs": []
    },
    {
      "metadata": {
        "id": "CVhWZ2aw8m9Q",
        "colab_type": "code",
        "colab": {}
      },
      "cell_type": "code",
      "source": [
        "style_transfer('style.jpg', 'content.jpg', n_iter=1000, style_wt=50.0, content_wt=1.0, vgg_file='vgg19.npy') # change weights for varying effects"
      ],
      "execution_count": 0,
      "outputs": []
    }
  ]
}